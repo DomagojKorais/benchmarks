{
 "cells": [
  {
   "cell_type": "markdown",
   "metadata": {},
   "source": [
    "# Timing gpu vs cpu matmul performance \n",
    "The aim of this notebook is to check the following:\n",
    "- correct use of gpu accelleration for the library PyTorch\n",
    "- comparison of performance performing a matrix multiplication using gpu accelleration vs using cpu"
   ]
  },
  {
   "cell_type": "code",
   "execution_count": 1,
   "metadata": {
    "scrolled": true
   },
   "outputs": [],
   "source": [
    "import torch \n",
    "import time\n",
    "import platform         #get system informations\n",
    "import psutil           #get memory informations\n",
    "import pandas  as pd    #data analysis\n",
    "import seaborn as sns   # data visualization\n",
    "from   tqdm import tqdm #progress bar"
   ]
  },
  {
   "cell_type": "markdown",
   "metadata": {},
   "source": [
    " ## Get system information "
   ]
  },
  {
   "cell_type": "code",
   "execution_count": 2,
   "metadata": {},
   "outputs": [
    {
     "name": "stdout",
     "output_type": "stream",
     "text": [
      "======================================== System Info ========================================\n",
      "System: Linux\n",
      "Release: 4.15.0-96-generic\n",
      "Version: #97-Ubuntu SMP Wed Apr 1 03:25:46 UTC 2020\n",
      "Machine: x86_64\n",
      "Processor: x86_64\n",
      "======================================== CPU Info ========================================\n",
      "Physical cores: 2\n",
      "Total cores: 4\n",
      "Max Frequency: 2000.00Mhz\n",
      "Min Frequency: 500.00Mhz\n",
      "Current Frequency: 1507.76Mhz\n",
      "======================================== GPU Info ========================================\n",
      "GeForce 920M\n",
      "Memory Usage:\n",
      "Allocated: 0.0 GB\n",
      "Cached:    0.0 GB\n",
      "======================================== GPU Driver Info ========================================\n",
      "nvcc: NVIDIA (R) Cuda compiler driver\n",
      "Copyright (c) 2005-2017 NVIDIA Corporation\n",
      "Built on Fri_Nov__3_21:07:56_CDT_2017\n",
      "Cuda compilation tools, release 9.1, V9.1.85\n",
      "======================================== Memory Information ========================================\n",
      "Total: 7.70GB\n",
      "Available: 3.51GB\n",
      "Used: 3.66GB\n",
      "Percentage: 54.4%\n",
      "======================================== Library info ========================================\n",
      "pytorch                   1.1.0           py3.7_cuda9.0.176_cudnn7.5.1_0    pytorch\n",
      "torchvision               0.3.0           py37_cu9.0.176_1    pytorch\n"
     ]
    }
   ],
   "source": [
    "def get_size(bytes, suffix=\"B\"):\n",
    "    \"\"\"\n",
    "    Scale bytes to its proper format\n",
    "    e.g:\n",
    "        1253656 => '1.20MB'\n",
    "        1253656678 => '1.17GB'\n",
    "    \"\"\"\n",
    "    factor = 1024\n",
    "    for unit in [\"\", \"K\", \"M\", \"G\", \"T\", \"P\"]:\n",
    "        if bytes < factor:\n",
    "            return f\"{bytes:.2f}{unit}{suffix}\"\n",
    "        bytes /= factor\n",
    "        \n",
    "        \n",
    "uname = platform.uname()\n",
    "print(\"=\"*40, \"System Info\", \"=\"*40)\n",
    "print(f\"System: {uname.system}\")\n",
    "print(f\"Release: {uname.release}\")\n",
    "print(f\"Version: {uname.version}\")\n",
    "print(f\"Machine: {uname.machine}\")\n",
    "print(f\"Processor: {uname.processor}\")\n",
    "\n",
    "# let's print CPU information\n",
    "print(\"=\"*40, \"CPU Info\", \"=\"*40)\n",
    "# number of cores\n",
    "print(\"Physical cores:\", psutil.cpu_count(logical=False))\n",
    "print(\"Total cores:\", psutil.cpu_count(logical=True))\n",
    "# CPU frequencies\n",
    "cpufreq = psutil.cpu_freq()\n",
    "print(f\"Max Frequency: {cpufreq.max:.2f}Mhz\")\n",
    "print(f\"Min Frequency: {cpufreq.min:.2f}Mhz\")\n",
    "print(f\"Current Frequency: {cpufreq.current:.2f}Mhz\")\n",
    "\n",
    "# GPU characteristics\n",
    "print(\"=\"*40, \"GPU Info\", \"=\"*40)\n",
    "device = torch.device('cuda')\n",
    "#Additional Info when using cuda\n",
    "if device.type == 'cuda':\n",
    "    print(torch.cuda.get_device_name(0))\n",
    "    print('Memory Usage:')\n",
    "    print('Allocated:', round(torch.cuda.memory_allocated(0)/1024**3,1), 'GB')\n",
    "    print('Cached:   ', round(torch.cuda.memory_cached(0)/1024**3,1), 'GB')\n",
    "    print(\"=\"*40, \"GPU Driver Info\", \"=\"*40)\n",
    "    !nvcc --version\n",
    "else:\n",
    "    print(\"No GPU aviable for PyTorch\")\n",
    "# Memory Information\n",
    "print(\"=\"*40, \"Memory Information\", \"=\"*40)\n",
    "# get the memory details\n",
    "svmem = psutil.virtual_memory()\n",
    "print(f\"Total: {get_size(svmem.total)}\")\n",
    "print(f\"Available: {get_size(svmem.available)}\")\n",
    "print(f\"Used: {get_size(svmem.used)}\")\n",
    "print(f\"Percentage: {svmem.percent}%\")\n",
    "print(\"=\"*40, \"Library info\", \"=\"*40)\n",
    "!conda list | grep \"pytorch\""
   ]
  },
  {
   "cell_type": "markdown",
   "metadata": {},
   "source": [
    "## Check timings\n",
    "Perform a matrix multiplication between two squared matrixes with, and without, gpu acceleration.\n",
    "The expectect results are that for small matrixes (dimension < than 100), cpu timings will be better since overhead timings associated to gpu usage will be grather than the improve in performance.\n",
    "The default matrix used for the operation is a matrix of size 10000*10000.\n"
   ]
  },
  {
   "cell_type": "code",
   "execution_count": 3,
   "metadata": {},
   "outputs": [],
   "source": [
    "matrix_dimension = 10000"
   ]
  },
  {
   "cell_type": "code",
   "execution_count": 4,
   "metadata": {},
   "outputs": [],
   "source": [
    "def mat_mul_timing(matrix_dimension,device,echo=True):\n",
    "    start = time.time()\n",
    "    m=matrix_dimension\n",
    "    a = torch.rand(m, m).to(device)\n",
    "    b = torch.rand(m, m).to(device)\n",
    "    c=torch.matmul(a, b).to(device) # torch.Size([m, j])\n",
    "    end = time.time()\n",
    "    execution_time=end-start\n",
    "    if(echo):\n",
    "        print(str(device)+\" time: \"+str(execution_time)) \n",
    "    return execution_time"
   ]
  },
  {
   "cell_type": "code",
   "execution_count": 5,
   "metadata": {},
   "outputs": [
    {
     "name": "stdout",
     "output_type": "stream",
     "text": [
      "======================================== Performance comparison ========================================\n",
      "cuda time: 6.662837505340576\n",
      "cpu time: 27.265044689178467\n",
      "Speedup: 4.0921071041165655\n"
     ]
    }
   ],
   "source": [
    "print(\"=\"*40, \"Performance comparison\", \"=\"*40)\n",
    "device    = torch.device('cuda')\n",
    "cuda_time = mat_mul_timing(matrix_dimension, device)\n",
    "device    = torch.device('cpu')\n",
    "cpu_time  = mat_mul_timing(matrix_dimension, device)\n",
    "print (\"Speedup: \"+str(cpu_time/cuda_time))"
   ]
  },
  {
   "cell_type": "markdown",
   "metadata": {},
   "source": [
    "## Plot timings \n",
    "In order to have a better understanging of system performances we are going to plot timings vs matrix dimensions, repeating the process in order to compute the standard deviation.\n",
    "Likely the bottleneck on the system is the avialable GPU memory, set the dimensions array value accordingly to your configuration."
   ]
  },
  {
   "cell_type": "code",
   "execution_count": 6,
   "metadata": {},
   "outputs": [
    {
     "name": "stderr",
     "output_type": "stream",
     "text": [
      "100%|██████████| 10/10 [05:26<00:00, 32.62s/it]\n"
     ]
    }
   ],
   "source": [
    "dimensions=[100,500,1000,2000,5000,10000]\n",
    "iterations = range(0,10)\n",
    "results = pd.DataFrame(columns=['dimension','device', 'timing'])\n",
    "for i in tqdm(iterations): \n",
    "    for dimension in dimensions: \n",
    "        device = torch.device('cuda')\n",
    "        try:\n",
    "            cuda_time = mat_mul_timing(dimension, device, echo=False)\n",
    "            results = results.append({'dimension':dimension,'device':'gpu', 'timing':cuda_time},ignore_index=True) \n",
    "        except Exception as e:\n",
    "            print(e)\n",
    "            print(\"Error occurred with a matrix dimension of: \"+str(dimension))\n",
    "            break\n",
    "        \n",
    "        device = torch.device('cpu')\n",
    "        cpu_time = mat_mul_timing(dimension, device, echo=False)\n",
    "        results = results.append({'dimension':dimension,'device':'cpu', 'timing':cpu_time},ignore_index=True)  "
   ]
  },
  {
   "cell_type": "code",
   "execution_count": 7,
   "metadata": {},
   "outputs": [
    {
     "data": {
      "text/html": [
       "<div>\n",
       "<style scoped>\n",
       "    .dataframe tbody tr th:only-of-type {\n",
       "        vertical-align: middle;\n",
       "    }\n",
       "\n",
       "    .dataframe tbody tr th {\n",
       "        vertical-align: top;\n",
       "    }\n",
       "\n",
       "    .dataframe thead tr th {\n",
       "        text-align: left;\n",
       "    }\n",
       "\n",
       "    .dataframe thead tr:last-of-type th {\n",
       "        text-align: right;\n",
       "    }\n",
       "</style>\n",
       "<table border=\"1\" class=\"dataframe\">\n",
       "  <thead>\n",
       "    <tr>\n",
       "      <th></th>\n",
       "      <th></th>\n",
       "      <th colspan=\"4\" halign=\"left\">timing</th>\n",
       "    </tr>\n",
       "    <tr>\n",
       "      <th></th>\n",
       "      <th></th>\n",
       "      <th>mean</th>\n",
       "      <th>std</th>\n",
       "      <th>min</th>\n",
       "      <th>max</th>\n",
       "    </tr>\n",
       "    <tr>\n",
       "      <th>dimension</th>\n",
       "      <th>device</th>\n",
       "      <th></th>\n",
       "      <th></th>\n",
       "      <th></th>\n",
       "      <th></th>\n",
       "    </tr>\n",
       "  </thead>\n",
       "  <tbody>\n",
       "    <tr>\n",
       "      <th rowspan=\"2\" valign=\"top\">100</th>\n",
       "      <th>cpu</th>\n",
       "      <td>0.000580</td>\n",
       "      <td>0.000105</td>\n",
       "      <td>0.000401</td>\n",
       "      <td>0.000721</td>\n",
       "    </tr>\n",
       "    <tr>\n",
       "      <th>gpu</th>\n",
       "      <td>0.001485</td>\n",
       "      <td>0.000711</td>\n",
       "      <td>0.000929</td>\n",
       "      <td>0.003356</td>\n",
       "    </tr>\n",
       "    <tr>\n",
       "      <th rowspan=\"2\" valign=\"top\">500</th>\n",
       "      <th>cpu</th>\n",
       "      <td>0.011982</td>\n",
       "      <td>0.003995</td>\n",
       "      <td>0.008943</td>\n",
       "      <td>0.022156</td>\n",
       "    </tr>\n",
       "    <tr>\n",
       "      <th>gpu</th>\n",
       "      <td>0.010497</td>\n",
       "      <td>0.002152</td>\n",
       "      <td>0.007811</td>\n",
       "      <td>0.013697</td>\n",
       "    </tr>\n",
       "    <tr>\n",
       "      <th rowspan=\"2\" valign=\"top\">1000</th>\n",
       "      <th>cpu</th>\n",
       "      <td>0.049229</td>\n",
       "      <td>0.009553</td>\n",
       "      <td>0.043505</td>\n",
       "      <td>0.072643</td>\n",
       "    </tr>\n",
       "    <tr>\n",
       "      <th>gpu</th>\n",
       "      <td>0.034883</td>\n",
       "      <td>0.006835</td>\n",
       "      <td>0.029417</td>\n",
       "      <td>0.046328</td>\n",
       "    </tr>\n",
       "    <tr>\n",
       "      <th rowspan=\"2\" valign=\"top\">2000</th>\n",
       "      <th>cpu</th>\n",
       "      <td>0.282834</td>\n",
       "      <td>0.054444</td>\n",
       "      <td>0.245068</td>\n",
       "      <td>0.432406</td>\n",
       "    </tr>\n",
       "    <tr>\n",
       "      <th>gpu</th>\n",
       "      <td>0.126608</td>\n",
       "      <td>0.024293</td>\n",
       "      <td>0.112635</td>\n",
       "      <td>0.193991</td>\n",
       "    </tr>\n",
       "    <tr>\n",
       "      <th rowspan=\"2\" valign=\"top\">5000</th>\n",
       "      <th>cpu</th>\n",
       "      <td>3.311885</td>\n",
       "      <td>0.263791</td>\n",
       "      <td>3.038728</td>\n",
       "      <td>3.877011</td>\n",
       "    </tr>\n",
       "    <tr>\n",
       "      <th>gpu</th>\n",
       "      <td>0.858118</td>\n",
       "      <td>0.053717</td>\n",
       "      <td>0.826493</td>\n",
       "      <td>1.003882</td>\n",
       "    </tr>\n",
       "    <tr>\n",
       "      <th rowspan=\"2\" valign=\"top\">10000</th>\n",
       "      <th>cpu</th>\n",
       "      <td>24.314510</td>\n",
       "      <td>1.873964</td>\n",
       "      <td>22.088529</td>\n",
       "      <td>27.878489</td>\n",
       "    </tr>\n",
       "    <tr>\n",
       "      <th>gpu</th>\n",
       "      <td>3.455282</td>\n",
       "      <td>0.205439</td>\n",
       "      <td>3.283426</td>\n",
       "      <td>3.996731</td>\n",
       "    </tr>\n",
       "  </tbody>\n",
       "</table>\n",
       "</div>"
      ],
      "text/plain": [
       "                     timing                                \n",
       "                       mean       std        min        max\n",
       "dimension device                                           \n",
       "100       cpu      0.000580  0.000105   0.000401   0.000721\n",
       "          gpu      0.001485  0.000711   0.000929   0.003356\n",
       "500       cpu      0.011982  0.003995   0.008943   0.022156\n",
       "          gpu      0.010497  0.002152   0.007811   0.013697\n",
       "1000      cpu      0.049229  0.009553   0.043505   0.072643\n",
       "          gpu      0.034883  0.006835   0.029417   0.046328\n",
       "2000      cpu      0.282834  0.054444   0.245068   0.432406\n",
       "          gpu      0.126608  0.024293   0.112635   0.193991\n",
       "5000      cpu      3.311885  0.263791   3.038728   3.877011\n",
       "          gpu      0.858118  0.053717   0.826493   1.003882\n",
       "10000     cpu     24.314510  1.873964  22.088529  27.878489\n",
       "          gpu      3.455282  0.205439   3.283426   3.996731"
      ]
     },
     "execution_count": 7,
     "metadata": {},
     "output_type": "execute_result"
    }
   ],
   "source": [
    "results.groupby([\"dimension\",\"device\"]).agg(['mean', 'std','min', 'max'])"
   ]
  },
  {
   "cell_type": "code",
   "execution_count": 8,
   "metadata": {},
   "outputs": [
    {
     "data": {
      "text/plain": [
       "Text(0.5, 1.0, 'Time (s) vs matrix dimension')"
      ]
     },
     "execution_count": 8,
     "metadata": {},
     "output_type": "execute_result"
    },
    {
     "data": {
      "image/png": "[encoded data removed]",
      "text/plain": [
       "<Figure size 432x288 with 1 Axes>"
      ]
     },
     "metadata": {},
     "output_type": "display_data"
    }
   ],
   "source": [
    "sns.set(style=\"white\")\n",
    "sns.lineplot(x=\"dimension\", y=\"timing\",\n",
    "             hue=\"device\", data=results).set_title(\"Time (s) vs matrix dimension\")"
   ]
  },
  {
   "cell_type": "code",
   "execution_count": null,
   "metadata": {},
   "outputs": [],
   "source": []
  }
 ],
 "metadata": {
  "kernelspec": {
   "display_name": "Python 3",
   "language": "python",
   "name": "python3"
  },
  "language_info": {
   "codemirror_mode": {
    "name": "ipython",
    "version": 3
   },
   "file_extension": ".py",
   "mimetype": "text/x-python",
   "name": "python",
   "nbconvert_exporter": "python",
   "pygments_lexer": "ipython3",
   "version": "3.7.6"
  }
 },
 "nbformat": 4,
 "nbformat_minor": 4
}
