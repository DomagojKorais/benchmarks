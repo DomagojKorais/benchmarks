{
 "cells": [
  {
   "cell_type": "markdown",
   "metadata": {},
   "source": [
    "# Timing gpu vs cpu matmul performance \n",
    "The aim of this notebook is to check the following:\n",
    "- correct use of gpu accelleration for the library PyTorch\n",
    "- comparison of performance performing a matrix multiplication using gpu accelleration vs using cpu"
   ]
  },
  {
   "cell_type": "code",
   "execution_count": 1,
   "metadata": {
    "scrolled": true
   },
   "outputs": [],
   "source": [
    "import torch \n",
    "import time\n",
    "import platform #get system informations\n",
    "import psutil   #get memory informations\n",
    "import pandas as pd #data analysis\n",
    "import seaborn as sns  # data visualization"
   ]
  },
  {
   "cell_type": "markdown",
   "metadata": {},
   "source": [
    " ## Get system information "
   ]
  },
  {
   "cell_type": "code",
   "execution_count": 2,
   "metadata": {},
   "outputs": [
    {
     "name": "stdout",
     "output_type": "stream",
     "text": [
      "======================================== System Info ========================================\n",
      "System: Linux\n",
      "Release: 4.15.0-96-generic\n",
      "Version: #97-Ubuntu SMP Wed Apr 1 03:25:46 UTC 2020\n",
      "Machine: x86_64\n",
      "Processor: x86_64\n",
      "======================================== CPU Info ========================================\n",
      "Physical cores: 2\n",
      "Total cores: 4\n",
      "Max Frequency: 2000.00Mhz\n",
      "Min Frequency: 500.00Mhz\n",
      "Current Frequency: 1564.24Mhz\n",
      "======================================== GPU Info ========================================\n",
      "GeForce 920M\n",
      "Memory Usage:\n",
      "Allocated: 0.0 GB\n",
      "Cached:    0.0 GB\n",
      "======================================== GPU Driver Info ========================================\n",
      "nvcc: NVIDIA (R) Cuda compiler driver\n",
      "Copyright (c) 2005-2017 NVIDIA Corporation\n",
      "Built on Fri_Nov__3_21:07:56_CDT_2017\n",
      "Cuda compilation tools, release 9.1, V9.1.85\n",
      "======================================== Memory Information ========================================\n",
      "Total: 7.70GB\n",
      "Available: 4.71GB\n",
      "Used: 2.50GB\n",
      "Percentage: 38.9%\n"
     ]
    }
   ],
   "source": [
    "def get_size(bytes, suffix=\"B\"):\n",
    "    \"\"\"\n",
    "    Scale bytes to its proper format\n",
    "    e.g:\n",
    "        1253656 => '1.20MB'\n",
    "        1253656678 => '1.17GB'\n",
    "    \"\"\"\n",
    "    factor = 1024\n",
    "    for unit in [\"\", \"K\", \"M\", \"G\", \"T\", \"P\"]:\n",
    "        if bytes < factor:\n",
    "            return f\"{bytes:.2f}{unit}{suffix}\"\n",
    "        bytes /= factor\n",
    "        \n",
    "        \n",
    "uname = platform.uname()\n",
    "print(\"=\"*40, \"System Info\", \"=\"*40)\n",
    "print(f\"System: {uname.system}\")\n",
    "print(f\"Release: {uname.release}\")\n",
    "print(f\"Version: {uname.version}\")\n",
    "print(f\"Machine: {uname.machine}\")\n",
    "print(f\"Processor: {uname.processor}\")\n",
    "\n",
    "# let's print CPU information\n",
    "print(\"=\"*40, \"CPU Info\", \"=\"*40)\n",
    "# number of cores\n",
    "print(\"Physical cores:\", psutil.cpu_count(logical=False))\n",
    "print(\"Total cores:\", psutil.cpu_count(logical=True))\n",
    "# CPU frequencies\n",
    "cpufreq = psutil.cpu_freq()\n",
    "print(f\"Max Frequency: {cpufreq.max:.2f}Mhz\")\n",
    "print(f\"Min Frequency: {cpufreq.min:.2f}Mhz\")\n",
    "print(f\"Current Frequency: {cpufreq.current:.2f}Mhz\")\n",
    "\n",
    "# GPU characteristics\n",
    "print(\"=\"*40, \"GPU Info\", \"=\"*40)\n",
    "device = torch.device('cuda')\n",
    "#Additional Info when using cuda\n",
    "if device.type == 'cuda':\n",
    "    print(torch.cuda.get_device_name(0))\n",
    "    print('Memory Usage:')\n",
    "    print('Allocated:', round(torch.cuda.memory_allocated(0)/1024**3,1), 'GB')\n",
    "    print('Cached:   ', round(torch.cuda.memory_cached(0)/1024**3,1), 'GB')\n",
    "    print(\"=\"*40, \"GPU Driver Info\", \"=\"*40)\n",
    "    !nvcc --version\n",
    "else:\n",
    "    print(\"No GPU aviable for PyTorch\")\n",
    "# Memory Information\n",
    "print(\"=\"*40, \"Memory Information\", \"=\"*40)\n",
    "# get the memory details\n",
    "svmem = psutil.virtual_memory()\n",
    "print(f\"Total: {get_size(svmem.total)}\")\n",
    "print(f\"Available: {get_size(svmem.available)}\")\n",
    "print(f\"Used: {get_size(svmem.used)}\")\n",
    "print(f\"Percentage: {svmem.percent}%\")"
   ]
  },
  {
   "cell_type": "markdown",
   "metadata": {},
   "source": [
    "## Check timings\n",
    "Perform a matrix multiplication between two squared matrixes with, and without, gpu acceleration.\n",
    "The expectect results are that for small matrixes (dimension < than 100), cpu timings will be better since overhead timings associated to gpu usage will be grather than the improve in performance.\n",
    "The default matrix used for the operation is a matrix of size 10000*10000.\n"
   ]
  },
  {
   "cell_type": "code",
   "execution_count": 3,
   "metadata": {},
   "outputs": [],
   "source": [
    "matrix_dimension = 10000"
   ]
  },
  {
   "cell_type": "code",
   "execution_count": 4,
   "metadata": {},
   "outputs": [],
   "source": [
    "def mat_mul_timing(matrix_dimension,device,echo=True):\n",
    "    start = time.time()\n",
    "    m=matrix_dimension\n",
    "    a = torch.rand(m, m).to(device)\n",
    "    b = torch.rand(m, m).to(device)\n",
    "    c=torch.matmul(a, b).to(device) # torch.Size([m, j])\n",
    "    end = time.time()\n",
    "    execution_time=end-start\n",
    "    if(echo):\n",
    "        print(str(device)+\" time: \"+str(execution_time)) \n",
    "    return execution_time"
   ]
  },
  {
   "cell_type": "code",
   "execution_count": 5,
   "metadata": {},
   "outputs": [
    {
     "name": "stdout",
     "output_type": "stream",
     "text": [
      "======================================== Performance comparison ========================================\n",
      "cuda time: 7.342959880828857\n",
      "cpu time: 22.084150552749634\n",
      "Speedup: 3.007527061452067\n"
     ]
    }
   ],
   "source": [
    "print(\"=\"*40, \"Performance comparison\", \"=\"*40)\n",
    "device    = torch.device('cuda')\n",
    "cuda_time = mat_mul_timing(matrix_dimension, device)\n",
    "device    = torch.device('cpu')\n",
    "cpu_time  = mat_mul_timing(matrix_dimension, device)\n",
    "print (\"Speedup: \"+str(cpu_time/cuda_time))"
   ]
  },
  {
   "cell_type": "markdown",
   "metadata": {},
   "source": [
    "## Plot timings \n",
    "In order to have a better understanging of system performances we are going to plot timings vs matrix dimensions, repeating the process in order to compute the standard deviation.\n",
    "Likely the bottleneck on the system is the avialable GPU memory, set the dimensions array value accordingly to your configuration."
   ]
  },
  {
   "cell_type": "code",
   "execution_count": 6,
   "metadata": {},
   "outputs": [
    {
     "name": "stdout",
     "output_type": "stream",
     "text": [
      "CUDA out of memory. Tried to allocate 860.00 MiB (GPU 0; 1.96 GiB total capacity; 858.31 MiB already allocated; 626.50 MiB free; 1.69 MiB cached)\n",
      "Error occurred with a matrix dimension of: 15000\n",
      "CUDA out of memory. Tried to allocate 860.00 MiB (GPU 0; 1.96 GiB total capacity; 858.31 MiB already allocated; 626.50 MiB free; 1.69 MiB cached)\n",
      "Error occurred with a matrix dimension of: 15000\n"
     ]
    }
   ],
   "source": [
    "dimensions=[100,500,1000,2000,5000,10000,15000]\n",
    "iterations = range(0,2)\n",
    "results = pd.DataFrame(columns=['dimension','device', 'timing'])\n",
    "for i in iterations: \n",
    "    for dimension in dimensions: \n",
    "        device    = torch.device('cuda')\n",
    "        try:\n",
    "            cuda_time = mat_mul_timing(dimension, device, echo=False)\n",
    "            results=results.append({'dimension':dimension,'device':'gpu', 'timing':cuda_time},ignore_index=True) \n",
    "        except Exception as e:\n",
    "            print(e)\n",
    "            print(\"Error occurred with a matrix dimension of: \"+str(dimension))\n",
    "            break\n",
    "        \n",
    "        device    = torch.device('cpu')\n",
    "        cpu_time  = mat_mul_timing(dimension, device, echo=False)\n",
    "        results=results.append({'dimension':dimension,'device':'cpu', 'timing':cpu_time},ignore_index=True)  "
   ]
  },
  {
   "cell_type": "code",
   "execution_count": 7,
   "metadata": {},
   "outputs": [
    {
     "data": {
      "text/plain": [
       "Text(0.5, 1.0, 'Time (s) vs matrix dimension')"
      ]
     },
     "execution_count": 7,
     "metadata": {},
     "output_type": "execute_result"
    },
    {
     "data": {
      "image/png": "[encoded data removed]",
      "text/plain": [
       "<Figure size 432x288 with 1 Axes>"
      ]
     },
     "metadata": {},
     "output_type": "display_data"
    }
   ],
   "source": [
    "sns.set(style=\"white\")\n",
    "sns.lineplot(x=\"dimension\", y=\"timing\",\n",
    "             hue=\"device\", data=results).set_title(\"Time (s) vs matrix dimension\")"
   ]
  },
  {
   "cell_type": "code",
   "execution_count": null,
   "metadata": {},
   "outputs": [],
   "source": []
  }
 ],
 "metadata": {
  "kernelspec": {
   "display_name": "Python 3",
   "language": "python",
   "name": "python3"
  },
  "language_info": {
   "codemirror_mode": {
    "name": "ipython",
    "version": 3
   },
   "file_extension": ".py",
   "mimetype": "text/x-python",
   "name": "python",
   "nbconvert_exporter": "python",
   "pygments_lexer": "ipython3",
   "version": "3.7.6"
  }
 },
 "nbformat": 4,
 "nbformat_minor": 4
}
